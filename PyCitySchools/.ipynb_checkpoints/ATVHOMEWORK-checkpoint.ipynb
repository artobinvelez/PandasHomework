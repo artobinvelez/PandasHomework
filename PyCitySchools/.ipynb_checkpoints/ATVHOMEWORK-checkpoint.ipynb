{
 "cells": [
  {
   "cell_type": "markdown",
   "metadata": {},
   "source": [
    "# PyCity Schools Analysis\n",
    "\n",
    "* As a whole, schools with higher budgets, did not yield better test results. By contrast, schools with higher spending per student actually (\\$645-675) underperformed compared to schools with smaller budgets (<\\$585 per student).\n",
    "\n",
    "* As a whole, smaller and medium sized schools dramatically out-performed large sized schools on passing math performances (89-91% passing vs 67%).\n",
    "\n",
    "* As a whole, charter schools out-performed the public district schools across all metrics. However, more analysis will be required to glean if the effect is due to school practices or the fact that charter schools tend to serve smaller student populations per school. \n",
    "---"
   ]
  },
  {
   "cell_type": "markdown",
   "metadata": {},
   "source": [
    "### Note\n",
    "* Instructions have been included for each segment. You do not have to follow them exactly, but they are included to help you think through the steps."
   ]
  },
  {
   "cell_type": "code",
   "execution_count": 2,
   "metadata": {},
   "outputs": [],
   "source": [
    "# Dependencies and Setup\n",
    "import pandas as pd\n",
    "import numpy as np\n",
    "\n",
    "# File to Load (Remember to Change These)\n",
    "school_data_to_load = \"../Resources/schools_complete.csv\"\n",
    "student_data_to_load = \"../Resources/students_complete.csv\"\n",
    "\n",
    "# Read School and Student Data File and store into Pandas Data Frames\n",
    "school_data = pd.read_csv(school_data_to_load)\n",
    "student_data = pd.read_csv(student_data_to_load)\n",
    "\n",
    "# Combine the data into a single dataset\n",
    "school_data_complete = pd.merge(student_data, school_data, how=\"left\", on=[\"school_name\", \"school_name\"])"
   ]
  },
  {
   "cell_type": "markdown",
   "metadata": {},
   "source": [
    "## District Summary\n",
    "\n",
    "* Calculate the total number of schools\n",
    "\n",
    "* Calculate the total number of students\n",
    "\n",
    "* Calculate the total budget\n",
    "\n",
    "* Calculate the average math score \n",
    "\n",
    "* Calculate the average reading score\n",
    "\n",
    "* Calculate the overall passing rate (overall average score), i.e. (avg. math score + avg. reading score)/2\n",
    "\n",
    "* Calculate the percentage of students with a passing math score (70 or greater)\n",
    "\n",
    "* Calculate the percentage of students with a passing reading score (70 or greater)\n",
    "\n",
    "* Create a dataframe to hold the above results\n",
    "\n",
    "* Optional: give the displayed data cleaner formatting"
   ]
  },
  {
   "cell_type": "code",
   "execution_count": null,
   "metadata": {},
   "outputs": [],
   "source": [
    "school_data.head()"
   ]
  },
  {
   "cell_type": "code",
   "execution_count": null,
   "metadata": {},
   "outputs": [],
   "source": [
    "school_data_complete.head()"
   ]
  },
  {
   "cell_type": "code",
   "execution_count": null,
   "metadata": {},
   "outputs": [],
   "source": [
    "# Calculate the total number of schools\n",
    "total_schools = school_data[\"School ID\"].count()\n",
    "\n",
    "total_schools"
   ]
  },
  {
   "cell_type": "code",
   "execution_count": null,
   "metadata": {},
   "outputs": [],
   "source": [
    "# Calculate the total budget\n",
    "school_budget = school_data[\"budget\"].sum()\n",
    "\n",
    "school_budget"
   ]
  },
  {
   "cell_type": "code",
   "execution_count": null,
   "metadata": {},
   "outputs": [],
   "source": [
    "# Calculate the total number of students\n",
    "total_students = school_data_complete[\"student_name\"].count()\n",
    "\n",
    "total_students"
   ]
  },
  {
   "cell_type": "code",
   "execution_count": null,
   "metadata": {},
   "outputs": [],
   "source": [
    "# Calculate the average math score\n",
    "average_math = school_data_complete[\"math_score\"].mean()\n",
    "\n",
    "round(average_math)"
   ]
  },
  {
   "cell_type": "code",
   "execution_count": null,
   "metadata": {},
   "outputs": [],
   "source": [
    "# Calculate the average reading score\n",
    "average_reading = school_data_complete[\"reading_score\"].mean()\n",
    "\n",
    "round(average_reading)"
   ]
  },
  {
   "cell_type": "code",
   "execution_count": null,
   "metadata": {},
   "outputs": [],
   "source": [
    "# Calculate the overall passing rate (overall average score)\n",
    "\n",
    "overall_passing_rate = (average_reading + average_math) / 2\n",
    "\n",
    "clean_rate = round((overall_passing_rate),2)\n",
    "\n",
    "clean_rate"
   ]
  },
  {
   "cell_type": "code",
   "execution_count": null,
   "metadata": {},
   "outputs": [],
   "source": [
    "# Calculate the percentage of students with a passing math score (70 or greater)\n",
    "\n",
    "passing_math = (school_data_complete[\"math_score\"] >= 70)\n",
    "passing_reading = (school_data_complete[\"reading_score\"] >= 70)\n",
    "\n",
    "per_passing_math = round((passing_math.sum()/total_students)*100, 2)\n",
    "\n",
    "per_passing_reading = round((passing_reading.sum()/total_students)*100, 2)\n",
    "\n",
    "\n",
    "\n"
   ]
  },
  {
   "cell_type": "code",
   "execution_count": null,
   "metadata": {},
   "outputs": [],
   "source": [
    "summary_df = pd.DataFrame(\n",
    "    {\"Total Schools\": [total_schools],\n",
    "     \"Total Students\": [total_students],\n",
    "     \"Total Budget\": [school_budget],\n",
    "     \"Average Math Score\": [average_math],\n",
    "     \"Average Reading Score\": [average_reading],\n",
    "     \"Overall Average Score\": [clean_rate],\n",
    "     \"Precentage Passing Math (Scores Over 70)\": [per_passing_math],\n",
    "     \"Percentage Passing Reading (Scores Over 70)\": [per_passing_reading],\n",
    "     }\n",
    ")\n",
    "summary_df"
   ]
  },
  {
   "cell_type": "code",
   "execution_count": null,
   "metadata": {},
   "outputs": [],
   "source": [
    "# Figure out mapping issues\n",
    "summary_df[\"Total Students\"] = summary_df[\"Total Students\"].map(\"${:,.2f}\".format)\n",
    "summary_df[\"Total Budget\"] = summary_df[\"Total Budget\"].map(\"${:,.2f}\".format)\n"
   ]
  },
  {
   "cell_type": "markdown",
   "metadata": {},
   "source": [
    "## School Summary"
   ]
  },
  {
   "cell_type": "markdown",
   "metadata": {},
   "source": [
    "* Create an overview table that summarizes key metrics about each school, including:\n",
    "  * School Name\n",
    "  * School Type\n",
    "  * Total Students\n",
    "  * Total School Budget\n",
    "  * Per Student Budget\n",
    "  * Average Math Score\n",
    "  * Average Reading Score\n",
    "  * % Passing Math\n",
    "  * % Passing Reading\n",
    "  * Overall Passing Rate (Average of the above two)\n",
    "  \n",
    "* Create a dataframe to hold the above results"
   ]
  },
  {
   "cell_type": "code",
   "execution_count": null,
   "metadata": {},
   "outputs": [],
   "source": [
    "merged_school_data = pd.merge(school_data, student_data, how='outer', on=\"school_name\")\n",
    "merged_school_data.head()"
   ]
  },
  {
   "cell_type": "code",
   "execution_count": null,
   "metadata": {},
   "outputs": [],
   "source": [
    "# total students per school, finding the percent over 70 \n",
    "\n",
    "# students_over_70 = merged_school_data[\"math_score\"] >= 70\n",
    "\n",
    "# students_over_70\n",
    "\n",
    "#  merged_school_data.set_index('school_name')\n",
    "\n",
    "# school_groups = merged_school_data(['school_name']).sum()/[students_over_70]"
   ]
  },
  {
   "cell_type": "code",
   "execution_count": null,
   "metadata": {},
   "outputs": [],
   "source": [
    "# total students per school, finding the percent over 70 \n",
    "\n",
    "students_over_70_math = (merged_school_data[\"math_score\"] >= 70) * 100\n",
    "students_over_70_reading = (merged_school_data[\"reading_score\"] >= 70) * 100"
   ]
  },
  {
   "cell_type": "code",
   "execution_count": null,
   "metadata": {},
   "outputs": [],
   "source": [
    "merged_school_data[\"Pass Math\"] = students_over_70_math\n",
    "merged_school_data[\"Pass Reading\"] = students_over_70_reading\n",
    "\n",
    "merged_school_data"
   ]
  },
  {
   "cell_type": "code",
   "execution_count": null,
   "metadata": {},
   "outputs": [],
   "source": [
    "average_scores_schools = merged_school_data.groupby(['school_name'])['Pass Math','Pass Reading']\n",
    "\n",
    "average_scores_schools.mean()"
   ]
  },
  {
   "cell_type": "code",
   "execution_count": null,
   "metadata": {},
   "outputs": [],
   "source": [
    "total_students_per_school = merged_school_data[\"school_name\"].value_counts()\n",
    "\n",
    "total_students_per_school"
   ]
  },
  {
   "cell_type": "code",
   "execution_count": null,
   "metadata": {},
   "outputs": [],
   "source": [
    "total_budgets = merged_school_data.groupby(['school_name'])['budget'].mean()\n",
    "\n",
    "total_budgets"
   ]
  },
  {
   "cell_type": "code",
   "execution_count": null,
   "metadata": {
    "scrolled": true
   },
   "outputs": [],
   "source": [
    "per_student_budget = [total_budgets/total_students_per_school]\n",
    "per_student_budget"
   ]
  },
  {
   "cell_type": "code",
   "execution_count": null,
   "metadata": {},
   "outputs": [],
   "source": [
    "average_school_math_reading = merged_school_data.groupby(['school_name'])['size','math_score', 'reading_score', 'Pass Math', \"Pass Reading\", 'budget'].mean()\n",
    "round(average_school_math_reading, 2)"
   ]
  },
  {
   "cell_type": "code",
   "execution_count": null,
   "metadata": {},
   "outputs": [],
   "source": [
    "# Average passing rate\n",
    "average_school_math_reading[\"% Overall Passing rate\"] = (average_school_math_reading[\"Pass Math\"] +\n",
    "average_school_math_reading[\"Pass Reading\"]) / 2\n",
    "\n",
    "average_school_math_reading[\"Budget Per Student\"] = average_school_math_reading[\"budget\"] / average_school_math_reading['size']\n",
    " \n",
    "average_school_math_reading"
   ]
  },
  {
   "cell_type": "code",
   "execution_count": null,
   "metadata": {},
   "outputs": [],
   "source": [
    "list(average_school_math_reading.index.values)"
   ]
  },
  {
   "cell_type": "code",
   "execution_count": null,
   "metadata": {},
   "outputs": [],
   "source": [
    "schools_df = pd.merge(average_school_math_reading, school_data, how = 'outer', on=['school_name'])\n",
    "\n",
    "schools_df"
   ]
  },
  {
   "cell_type": "code",
   "execution_count": null,
   "metadata": {},
   "outputs": [],
   "source": [
    "schools_df = schools_df.rename(columns={\"school_name\": \"School Name\", \"math_score\": \"Math Score\",\n",
    "                                        \"reading_score\":\"Reading Score\", \"type\":\"Type\", \"size_y\":\"Size\", \"budget_y\":\"Budget\"})\n",
    "schools_df"
   ]
  },
  {
   "cell_type": "code",
   "execution_count": null,
   "metadata": {},
   "outputs": [],
   "source": [
    "# Deleting extra/duplicate columns\n",
    "\n",
    "del schools_df['size_x']\n",
    "del schools_df['budget_x']"
   ]
  },
  {
   "cell_type": "markdown",
   "metadata": {},
   "source": [
    "## Top Performing Schools (By Passing Rate)"
   ]
  },
  {
   "cell_type": "markdown",
   "metadata": {},
   "source": [
    "* Sort and display the top five schools in overall passing rate"
   ]
  },
  {
   "cell_type": "code",
   "execution_count": null,
   "metadata": {},
   "outputs": [],
   "source": [
    "top_five_schools = schools_df.sort_values(by=['% Overall Passing rate'], ascending=False).head(5)\n",
    "\n",
    "top_five_schools"
   ]
  },
  {
   "cell_type": "markdown",
   "metadata": {},
   "source": [
    "## Bottom Performing Schools (By Passing Rate)"
   ]
  },
  {
   "cell_type": "markdown",
   "metadata": {},
   "source": [
    "* Sort and display the five worst-performing schools"
   ]
  },
  {
   "cell_type": "code",
   "execution_count": null,
   "metadata": {},
   "outputs": [],
   "source": [
    "bottom_five_schools = schools_df.sort_values(by=['% Overall Passing rate'], ascending=True).head(5)\n",
    "bottom_five_schools"
   ]
  },
  {
   "cell_type": "markdown",
   "metadata": {
    "collapsed": true
   },
   "source": [
    "## Math Scores by Grade"
   ]
  },
  {
   "cell_type": "markdown",
   "metadata": {},
   "source": [
    "* Create a table that lists the average Reading Score for students of each grade level (9th, 10th, 11th, 12th) at each school.\n",
    "\n",
    "  * Create a pandas series for each grade. Hint: use a conditional statement.\n",
    "  \n",
    "  * Group each series by school\n",
    "  \n",
    "  * Combine the series into a dataframe\n",
    "  \n",
    "  * Optional: give the displayed data cleaner formatting"
   ]
  },
  {
   "cell_type": "code",
   "execution_count": null,
   "metadata": {},
   "outputs": [],
   "source": [
    "math_scores_by_grade_df = pd.pivot_table(student_data, values=[\"math_score\"], index=[\"school_name\"],\n",
    "                                        columns=[\"grade\"])\n",
    "\n",
    "math_scores_by_grade_df"
   ]
  },
  {
   "cell_type": "markdown",
   "metadata": {},
   "source": [
    "## Reading Score by Grade "
   ]
  },
  {
   "cell_type": "markdown",
   "metadata": {},
   "source": [
    "* Perform the same operations as above for reading scores"
   ]
  },
  {
   "cell_type": "code",
   "execution_count": null,
   "metadata": {},
   "outputs": [],
   "source": [
    "reading_scores_by_grade_df = pd.pivot_table(student_data, values=[\"reading_score\"], index=[\"school_name\"],\n",
    "                                        columns=[\"grade\"])\n",
    "\n",
    "reading_scores_by_grade_df"
   ]
  },
  {
   "cell_type": "markdown",
   "metadata": {},
   "source": [
    "## Scores by School Spending"
   ]
  },
  {
   "cell_type": "markdown",
   "metadata": {},
   "source": [
    "* Create a table that breaks down school performances based on average Spending Ranges (Per Student). Use 4 reasonable bins to group school spending. Include in the table each of the following:\n",
    "  * Average Math Score\n",
    "  * Average Reading Score\n",
    "  * % Passing Math\n",
    "  * % Passing Reading\n",
    "  * Overall Passing Rate (Average of the above two)"
   ]
  },
  {
   "cell_type": "code",
   "execution_count": null,
   "metadata": {},
   "outputs": [],
   "source": [
    "# Sample bins. Feel free to create your own bins.\n",
    "bins = [0, 585, 615, 645, 675]\n",
    "spending_labels = [\"$0-585\", \"$585-615\", \"$615-645\", \"$645-675\"]"
   ]
  },
  {
   "cell_type": "code",
   "execution_count": null,
   "metadata": {},
   "outputs": [],
   "source": [
    "bins_school_spending = pd.cut(schools_df['Budget Per Student'], bins, labels=spending_labels)\n",
    "\n",
    "bins_school_spending = pd.DataFrame(bins_school_spending)\n",
    "\n",
    "schools_df['Spending Level'] = bins_school_spending\n",
    "\n",
    "bins_school_spending"
   ]
  },
  {
   "cell_type": "code",
   "execution_count": null,
   "metadata": {},
   "outputs": [],
   "source": [
    "scores_by_school_spending = schools_df.groupby(['Spending Level'])['Reading Score',\n",
    "                                                        'Math Score',\n",
    "                                                        'Pass Reading',\n",
    "                                                        'Pass Math',\n",
    "                                                        '% Overall Passing rate'\n",
    "                                                        ].mean()\n",
    "scores_by_school_spending"
   ]
  },
  {
   "cell_type": "markdown",
   "metadata": {},
   "source": [
    "## Scores by School Size"
   ]
  },
  {
   "cell_type": "markdown",
   "metadata": {},
   "source": [
    "* Perform the same operations as above, based on school size."
   ]
  },
  {
   "cell_type": "code",
   "execution_count": null,
   "metadata": {},
   "outputs": [],
   "source": [
    "# Sample bins. Feel free to create your own bins.\n",
    "size_bins = [0, 1000, 2000, 5000]\n",
    "group_names = [\"Small (<1000)\", \"Medium (1000-2000)\", \"Large (2000-5000)\"]"
   ]
  },
  {
   "cell_type": "code",
   "execution_count": null,
   "metadata": {
    "scrolled": true
   },
   "outputs": [],
   "source": [
    "bins_school_size = pd.cut(schools_df['Size'], size_bins, labels=group_names)\n",
    "\n",
    "bins_school_size = pd.DataFrame(bins_school_size)\n",
    "\n",
    "schools_df['Size Level'] = bins_school_size\n",
    "\n",
    "bins_school_size"
   ]
  },
  {
   "cell_type": "code",
   "execution_count": null,
   "metadata": {},
   "outputs": [],
   "source": [
    "scores_by_school_size = schools_df.groupby(['Size Level'])['Reading Score',\n",
    "                                                        'Math Score',\n",
    "                                                        'Pass Reading',\n",
    "                                                        'Pass Math',\n",
    "                                                        '% Overall Passing rate'\n",
    "                                                        ].mean()\n",
    "scores_by_school_size"
   ]
  },
  {
   "cell_type": "markdown",
   "metadata": {},
   "source": [
    "## Scores by School Type"
   ]
  },
  {
   "cell_type": "markdown",
   "metadata": {},
   "source": [
    "* Perform the same operations as above, based on school type."
   ]
  },
  {
   "cell_type": "code",
   "execution_count": null,
   "metadata": {},
   "outputs": [],
   "source": [
    "scores_by_school_size = schools_df.groupby(['Type'])['Reading Score',\n",
    "                                                        'Math Score',\n",
    "                                                        'Pass Reading',\n",
    "                                                        'Pass Math',\n",
    "                                                        '% Overall Passing rate'\n",
    "                                                        ].mean()\n",
    "scores_by_school_size"
   ]
  },
  {
   "cell_type": "code",
   "execution_count": null,
   "metadata": {},
   "outputs": [],
   "source": [
    "# Observation 1:\n",
    "\n",
    "# Students in charter schools are much more likely to pass their reading and math classes than their disctrict counter parts.\n",
    "\n",
    "# Observation 2:\n",
    "\n",
    "# Schools over 200 students have the lowest overall passing rate.\n",
    "\n",
    "# Weird Observation:\n",
    "\n",
    "# According to this data, schools that are in the highest per student spending bracket produce the lowest average passing rate."
   ]
  }
 ],
 "metadata": {
  "anaconda-cloud": {},
  "kernel_info": {
   "name": "python3"
  },
  "kernelspec": {
   "display_name": "Python 3",
   "language": "python",
   "name": "python3"
  },
  "language_info": {
   "codemirror_mode": {
    "name": "ipython",
    "version": 3
   },
   "file_extension": ".py",
   "mimetype": "text/x-python",
   "name": "python",
   "nbconvert_exporter": "python",
   "pygments_lexer": "ipython3",
   "version": "3.7.0"
  },
  "nteract": {
   "version": "0.8.4"
  }
 },
 "nbformat": 4,
 "nbformat_minor": 1
}
